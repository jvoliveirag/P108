{
  "nbformat": 4,
  "nbformat_minor": 0,
  "metadata": {
    "colab": {
      "provenance": []
    },
    "kernelspec": {
      "name": "python3",
      "display_name": "Python 3"
    },
    "language_info": {
      "name": "python"
    }
  },
  "cells": [
    {
      "cell_type": "code",
      "source": [
        "pip install gekko"
      ],
      "metadata": {
        "colab": {
          "base_uri": "https://localhost:8080/"
        },
        "id": "J-vIICXqdQA8",
        "outputId": "3411505e-ecb2-4533-98d3-91c08f56d804"
      },
      "execution_count": 2,
      "outputs": [
        {
          "output_type": "stream",
          "name": "stdout",
          "text": [
            "Looking in indexes: https://pypi.org/simple, https://us-python.pkg.dev/colab-wheels/public/simple/\n",
            "Collecting gekko\n",
            "  Downloading gekko-1.0.6-py3-none-any.whl (12.2 MB)\n",
            "\u001b[2K     \u001b[90m━━━━━━━━━━━━━━━━━━━━━━━━━━━━━━━━━━━━━━━━\u001b[0m \u001b[32m12.2/12.2 MB\u001b[0m \u001b[31m68.6 MB/s\u001b[0m eta \u001b[36m0:00:00\u001b[0m\n",
            "\u001b[?25hRequirement already satisfied: numpy>=1.8 in /usr/local/lib/python3.10/dist-packages (from gekko) (1.22.4)\n",
            "Installing collected packages: gekko\n",
            "Successfully installed gekko-1.0.6\n"
          ]
        }
      ]
    },
    {
      "cell_type": "code",
      "source": [
        "# -*- coding: utf-8 -*-\n",
        "\"\"\"\n",
        "Exercicio 2: caminho minimo\n",
        "Joao Victor de O. G Ribeiro - GES 106\n",
        "\"\"\"\n",
        "\n",
        "from gekko import GEKKO\n",
        "\n",
        "m = 106\n",
        "\n",
        "z = GEKKO()\n",
        "x12, x13, x14, x23, x25, x35, x36, x43, x46, x56, x57, x67 = z.Array(z.Var,12,integer=True,lb=0)\n",
        "z.Minimize((4*m)*x12 + (6*m)*x13 + (5*m)*x14 + (1*m)*x23 + (7*m)*x25 + (5*m)*x35 + (4*m)*x36 + (2*m)*x43 + (5*m)*x46 + (1*m)*x56 + (6*m)*x57 + (8*m)*x67)\n",
        "z.Equations([\n",
        "    1 == x12+x13+x14, \n",
        "    x12 == x23 + x25,\n",
        "    x14 == x43 + x46,\n",
        "    x23 + x43 + x13 == x35 + x36,\n",
        "    x25 + x35 == x57 + x56,\n",
        "    x36 + x46 + x56 == x67 \n",
        "])\n",
        "\n",
        "z.options.SOLVER = 1\n",
        "z.solve()\n",
        "print('Objective: ', z.options.OBJFCNVAL)\n",
        "print('x12: ', x12.value[0])\n",
        "print('x13: ', x13.value[0])\n",
        "print('x14: ', x14.value[0])\n",
        "print('x23: ', x23.value[0])\n",
        "print('x25: ', x25.value[0])\n",
        "print('x35: ', x35.value[0])\n",
        "print('x36: ', x36.value[0])\n",
        "print('x43: ', x43.value[0])\n",
        "print('x46: ', x46.value[0])\n",
        "print('x56: ', x56.value[0])\n",
        "print('x57: ', x57.value[0])\n",
        "print('x67: ', x67.value[0])\n",
        "\n",
        "arcs = [x12.value[0], x13.value[0], x14.value[0], x23.value[0], x25.value[0], x35.value[0], \n",
        "        x36.value[0], x43.value[0], x46.value[0], x56.value[0], x57.value[0], x67.value[0]]\n"
      ],
      "metadata": {
        "id": "QjiKkY-ddXuJ",
        "outputId": "dd1b9a58-df00-4c20-bac6-c721575fefa2",
        "colab": {
          "base_uri": "https://localhost:8080/"
        }
      },
      "execution_count": 11,
      "outputs": [
        {
          "output_type": "stream",
          "name": "stdout",
          "text": [
            "apm 35.185.116.118_gk_model6 <br><pre> ----------------------------------------------------------------\n",
            " APMonitor, Version 1.0.1\n",
            " APMonitor Optimization Suite\n",
            " ----------------------------------------------------------------\n",
            " \n",
            " \n",
            " Warning: there is insufficient data in CSV file 35.185.116.118_gk_model6.csv\n",
            " \n",
            " --------- APM Model Size ------------\n",
            " Each time step contains\n",
            "   Objects      :            0\n",
            "   Constants    :            0\n",
            "   Variables    :           12\n",
            "   Intermediates:            0\n",
            "   Connections  :            0\n",
            "   Equations    :            7\n",
            "   Residuals    :            7\n",
            " \n",
            " Number of state variables:             12\n",
            " Number of total equations: -            6\n",
            " Number of slack variables: -            0\n",
            " ---------------------------------------\n",
            " Degrees of freedom       :              6\n",
            " \n",
            " ----------------------------------------------\n",
            " Steady State Optimization with APOPT Solver\n",
            " ----------------------------------------------\n",
            "Iter:     1 I:  0 Tm:      0.00 NLPi:    3 Dpth:    0 Lvs:    0 Obj:  1.70E+03 Gap:  0.00E+00\n",
            " Successful solution\n",
            " \n",
            " ---------------------------------------------------\n",
            " Solver         :  APOPT (v1.0)\n",
            " Solution time  :   1.389999999810243E-002 sec\n",
            " Objective      :    1696.00000000000     \n",
            " Successful solution\n",
            " ---------------------------------------------------\n",
            " \n",
            "Objective:  1696.0\n",
            "x12:  1.0\n",
            "x13:  0.0\n",
            "x14:  0.0\n",
            "x23:  1.0\n",
            "x25:  0.0\n",
            "x35:  1.0\n",
            "x36:  0.0\n",
            "x43:  0.0\n",
            "x46:  0.0\n",
            "x56:  0.0\n",
            "x57:  1.0\n",
            "x67:  0.0\n"
          ]
        }
      ]
    }
  ]
}