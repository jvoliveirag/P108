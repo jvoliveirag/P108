{
  "nbformat": 4,
  "nbformat_minor": 0,
  "metadata": {
    "colab": {
      "provenance": []
    },
    "kernelspec": {
      "name": "python3",
      "display_name": "Python 3"
    },
    "language_info": {
      "name": "python"
    }
  },
  "cells": [
    {
      "cell_type": "code",
      "execution_count": null,
      "metadata": {
        "colab": {
          "base_uri": "https://localhost:8080/"
        },
        "id": "t-9kE9hgsryp",
        "outputId": "d00c9044-f6d1-4186-bf11-a45fcf21f8f2"
      },
      "outputs": [
        {
          "output_type": "stream",
          "name": "stdout",
          "text": [
            "Looking in indexes: https://pypi.org/simple, https://us-python.pkg.dev/colab-wheels/public/simple/\n",
            "Collecting gekko\n",
            "  Downloading gekko-1.0.6-py3-none-any.whl (12.2 MB)\n",
            "\u001b[2K     \u001b[90m━━━━━━━━━━━━━━━━━━━━━━━━━━━━━━━━━━━━━━━━\u001b[0m \u001b[32m12.2/12.2 MB\u001b[0m \u001b[31m41.1 MB/s\u001b[0m eta \u001b[36m0:00:00\u001b[0m\n",
            "\u001b[?25hRequirement already satisfied: numpy>=1.8 in /usr/local/lib/python3.10/dist-packages (from gekko) (1.22.4)\n",
            "Installing collected packages: gekko\n",
            "Successfully installed gekko-1.0.6\n"
          ]
        }
      ],
      "source": [
        "pip install gekko"
      ]
    },
    {
      "cell_type": "code",
      "source": [
        "# -*- coding: utf-8 -*-\n",
        "\"\"\"\n",
        "Exercicio 3: fluxo maximo\n",
        "Joao Victor de O. G Ribeiro - GES 106\n",
        "\"\"\"\n",
        "\n",
        "from gekko import GEKKO\n",
        "\n",
        "m = 106\n",
        "\n",
        "z = GEKKO()\n",
        "x14, x24, x25, x26, x35, x45, x46, x47, x56, x58, x67, x68 = z.Array(z.Var,12,integer=True,lb=0)\n",
        "z.Maximize(x47 + x67 + x68 + x58) #Maximizing output.\n",
        "z.Equations([ x14 + x24 == x46 + x47,\n",
        "              x25 + x35 == x56 + x58,\n",
        "              x26 + x46 + x56 == x67 + x68,\n",
        "              x14<=20*m,\n",
        "              x24<=10*m,\n",
        "              x25<=20*m,\n",
        "              x26<=50*m,\n",
        "              x35<=15*m,\n",
        "              x45<=20*m,\n",
        "              x46<=10*m,\n",
        "              x47<=10*m,\n",
        "              x56<=30*m,\n",
        "              x58<=30*m,\n",
        "              x67<=50*m,\n",
        "              x68<=20*m ])\n",
        "z.options.SOLVER = 1\n",
        "z.solve()\n",
        "print('Objective: ', -z.options.OBJFCNVAL)\n",
        "\n",
        "print('x14: ', x14.value[0])\n",
        "print('x24: ', x24.value[0])\n",
        "print('x25: ', x25.value[0])\n",
        "print('x26: ', x26.value[0])\n",
        "print('x35: ', x35.value[0])\n",
        "print('x45: ', x45.value[0])\n",
        "print('x46: ', x46.value[0])\n",
        "print('x47: ', x47.value[0])\n",
        "print('x56: ', x56.value[0])\n",
        "print('x58: ', x58.value[0])\n",
        "print('x67: ', x67.value[0])\n",
        "print('x68: ', x68.value[0])\n"
      ],
      "metadata": {
        "colab": {
          "base_uri": "https://localhost:8080/"
        },
        "id": "xrIe7vZ-tCcK",
        "outputId": "0e7eaa9a-dd6f-4f17-cd4d-38424d803058"
      },
      "execution_count": null,
      "outputs": [
        {
          "output_type": "stream",
          "name": "stdout",
          "text": [
            "apm 34.80.223.232_gk_model0 <br><pre> ----------------------------------------------------------------\n",
            " APMonitor, Version 1.0.1\n",
            " APMonitor Optimization Suite\n",
            " ----------------------------------------------------------------\n",
            " \n",
            " \n",
            " Warning: there is insufficient data in CSV file 34.80.223.232_gk_model0.csv\n",
            " \n",
            " --------- APM Model Size ------------\n",
            " Each time step contains\n",
            "   Objects      :            0\n",
            "   Constants    :            0\n",
            "   Variables    :           24\n",
            "   Intermediates:            0\n",
            "   Connections  :            0\n",
            "   Equations    :           16\n",
            "   Residuals    :           16\n",
            " \n",
            " Number of state variables:             24\n",
            " Number of total equations: -           15\n",
            " Number of slack variables: -           12\n",
            " ---------------------------------------\n",
            " Degrees of freedom       :             -3\n",
            " \n",
            " * Warning: DOF <= 0\n",
            " ----------------------------------------------\n",
            " Steady State Optimization with APOPT Solver\n",
            " ----------------------------------------------\n",
            "Iter:     1 I:  0 Tm:      0.00 NLPi:    3 Dpth:    0 Lvs:    3 Obj: -1.11E+04 Gap:       NaN\n",
            "--Integer Solution:  -1.11E+04 Lowest Leaf:  -1.11E+04 Gap:   0.00E+00\n",
            "Iter:     2 I:  0 Tm:      0.00 NLPi:    2 Dpth:    1 Lvs:    3 Obj: -1.11E+04 Gap:  0.00E+00\n",
            " Successful solution\n",
            " \n",
            " ---------------------------------------------------\n",
            " Solver         :  APOPT (v1.0)\n",
            " Solution time  :   2.230000000054133E-002 sec\n",
            " Objective      :   -11130.0000000000     \n",
            " Successful solution\n",
            " ---------------------------------------------------\n",
            " \n",
            "Objective:  11130.0\n",
            "x14:  1770.0\n",
            "x24:  350.0\n",
            "x25:  2120.0\n",
            "x26:  5300.0\n",
            "x35:  1590.0\n",
            "x45:  1060.0\n",
            "x46:  1060.0\n",
            "x47:  1060.0\n",
            "x56:  1060.0\n",
            "x58:  2650.0\n",
            "x67:  5300.0\n",
            "x68:  2120.0\n"
          ]
        }
      ]
    }
  ]
}